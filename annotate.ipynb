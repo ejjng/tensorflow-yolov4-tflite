{
 "cells": [
  {
   "cell_type": "code",
   "execution_count": 2,
   "metadata": {},
   "outputs": [],
   "source": [
    "import os\n",
    "import csv\n",
    "\n",
    "data_types = ['train', 'val']\n",
    "folders = ['size50to100', 'size50to150', 'size100to150']\n",
    "annotpath = './data/dataset/'"
   ]
  },
  {
   "cell_type": "code",
   "execution_count": 5,
   "metadata": {},
   "outputs": [],
   "source": [
    "def get_lines(midpath):\n",
    "    lines = []\n",
    "    \n",
    "    labelpath = midpath + '/label/'\n",
    "    label_list = [f for f in os.listdir(labelpath) if '_ids' not in f]\n",
    "    label_list.sort()        \n",
    "    \n",
    "    for labelname in label_list:\n",
    "        no_ext = labelname.split('.')[0]\n",
    "        imgpath = midpath + '/img/' + no_ext + '.png'\n",
    "        line = imgpath + ' '\n",
    "        with open(labelpath + labelname, 'r') as f:\n",
    "            poses = f.readlines()\n",
    "            for i in range(len(poses)):\n",
    "                pos = poses[i]\n",
    "                p = pos.rstrip().split(' ')\n",
    "                line += p[0] + ','\n",
    "                line += p[1] + ','\n",
    "                line += str(int(p[0]) + int(p[2])) + ','\n",
    "                line += str(int(p[1]) + int(p[3])) + ','\n",
    "                line += '0'\n",
    "                if i != len(poses)-1:\n",
    "                    line += ' '\n",
    "        lines.append(line)\n",
    "    return lines"
   ]
  },
  {
   "cell_type": "code",
   "execution_count": 7,
   "metadata": {
    "scrolled": false
   },
   "outputs": [],
   "source": [
    "for data_type in data_types:\n",
    "    annots = []\n",
    "    for folder in folders:\n",
    "        midpath = './coco_mixed/' + folder + '/' + data_type\n",
    "        lines = get_lines(midpath)\n",
    "        annots += lines\n",
    "    \n",
    "    with open(annotpath + 'coco_mixed_' + data_type + '.txt', 'w') as f:\n",
    "        for annot in annots:\n",
    "            f.write(f\"{annot}\\n\")"
   ]
  },
  {
   "cell_type": "code",
   "execution_count": 8,
   "metadata": {},
   "outputs": [
    {
     "ename": "FileNotFoundError",
     "evalue": "[Errno 2] No such file or directory: './data/classes/coco.names'",
     "output_type": "error",
     "traceback": [
      "\u001b[0;31m---------------------------------------------------------------------------\u001b[0m",
      "\u001b[0;31mFileNotFoundError\u001b[0m                         Traceback (most recent call last)",
      "Input \u001b[0;32mIn [8]\u001b[0m, in \u001b[0;36m<cell line: 1>\u001b[0;34m()\u001b[0m\n\u001b[0;32m----> 1\u001b[0m \u001b[38;5;28;01mfrom\u001b[39;00m \u001b[38;5;21;01mcore\u001b[39;00m\u001b[38;5;21;01m.\u001b[39;00m\u001b[38;5;21;01mdataset\u001b[39;00m \u001b[38;5;28;01mimport\u001b[39;00m Dataset\n\u001b[1;32m      2\u001b[0m trainset \u001b[38;5;241m=\u001b[39m Dataset(\u001b[38;5;28;01mNone\u001b[39;00m, is_training\u001b[38;5;241m=\u001b[39m\u001b[38;5;28;01mTrue\u001b[39;00m)\n\u001b[1;32m      3\u001b[0m \u001b[38;5;28mprint\u001b[39m(\u001b[38;5;28mlen\u001b[39m(trainset))\n",
      "File \u001b[0;32m~/GitLab/tensorflow-yolov4-tflite/core/dataset.py:9\u001b[0m, in \u001b[0;36m<module>\u001b[0;34m\u001b[0m\n\u001b[1;32m      7\u001b[0m \u001b[38;5;28;01mimport\u001b[39;00m \u001b[38;5;21;01mnumpy\u001b[39;00m \u001b[38;5;28;01mas\u001b[39;00m \u001b[38;5;21;01mnp\u001b[39;00m\n\u001b[1;32m      8\u001b[0m \u001b[38;5;28;01mimport\u001b[39;00m \u001b[38;5;21;01mtensorflow\u001b[39;00m \u001b[38;5;28;01mas\u001b[39;00m \u001b[38;5;21;01mtf\u001b[39;00m\n\u001b[0;32m----> 9\u001b[0m \u001b[38;5;28;01mimport\u001b[39;00m \u001b[38;5;21;01mcore\u001b[39;00m\u001b[38;5;21;01m.\u001b[39;00m\u001b[38;5;21;01mutils\u001b[39;00m \u001b[38;5;28;01mas\u001b[39;00m \u001b[38;5;21;01mutils\u001b[39;00m\n\u001b[1;32m     10\u001b[0m \u001b[38;5;28;01mfrom\u001b[39;00m \u001b[38;5;21;01mcore\u001b[39;00m\u001b[38;5;21;01m.\u001b[39;00m\u001b[38;5;21;01mconfig\u001b[39;00m \u001b[38;5;28;01mimport\u001b[39;00m cfg\n\u001b[1;32m     13\u001b[0m \u001b[38;5;28;01mclass\u001b[39;00m \u001b[38;5;21;01mDataset\u001b[39;00m(\u001b[38;5;28mobject\u001b[39m):\n",
      "File \u001b[0;32m~/GitLab/tensorflow-yolov4-tflite/core/utils.py:127\u001b[0m, in \u001b[0;36m<module>\u001b[0;34m\u001b[0m\n\u001b[1;32m    124\u001b[0m         gt_boxes[:, [\u001b[38;5;241m1\u001b[39m, \u001b[38;5;241m3\u001b[39m]] \u001b[38;5;241m=\u001b[39m gt_boxes[:, [\u001b[38;5;241m1\u001b[39m, \u001b[38;5;241m3\u001b[39m]] \u001b[38;5;241m*\u001b[39m scale \u001b[38;5;241m+\u001b[39m dh\n\u001b[1;32m    125\u001b[0m         \u001b[38;5;28;01mreturn\u001b[39;00m image_paded, gt_boxes\n\u001b[0;32m--> 127\u001b[0m \u001b[38;5;28;01mdef\u001b[39;00m \u001b[38;5;21mdraw_bbox\u001b[39m(image, bboxes, classes\u001b[38;5;241m=\u001b[39m\u001b[43mread_class_names\u001b[49m\u001b[43m(\u001b[49m\u001b[43mcfg\u001b[49m\u001b[38;5;241;43m.\u001b[39;49m\u001b[43mYOLO\u001b[49m\u001b[38;5;241;43m.\u001b[39;49m\u001b[43mCLASSES\u001b[49m\u001b[43m)\u001b[49m, show_label\u001b[38;5;241m=\u001b[39m\u001b[38;5;28;01mTrue\u001b[39;00m):\n\u001b[1;32m    128\u001b[0m     num_classes \u001b[38;5;241m=\u001b[39m \u001b[38;5;28mlen\u001b[39m(classes)\n\u001b[1;32m    129\u001b[0m     image_h, image_w, _ \u001b[38;5;241m=\u001b[39m image\u001b[38;5;241m.\u001b[39mshape\n",
      "File \u001b[0;32m~/GitLab/tensorflow-yolov4-tflite/core/utils.py:77\u001b[0m, in \u001b[0;36mread_class_names\u001b[0;34m(class_file_name)\u001b[0m\n\u001b[1;32m     75\u001b[0m \u001b[38;5;28;01mdef\u001b[39;00m \u001b[38;5;21mread_class_names\u001b[39m(class_file_name):\n\u001b[1;32m     76\u001b[0m     names \u001b[38;5;241m=\u001b[39m {}\n\u001b[0;32m---> 77\u001b[0m     \u001b[38;5;28;01mwith\u001b[39;00m \u001b[38;5;28;43mopen\u001b[39;49m\u001b[43m(\u001b[49m\u001b[43mclass_file_name\u001b[49m\u001b[43m,\u001b[49m\u001b[43m \u001b[49m\u001b[38;5;124;43m'\u001b[39;49m\u001b[38;5;124;43mr\u001b[39;49m\u001b[38;5;124;43m'\u001b[39;49m\u001b[43m)\u001b[49m \u001b[38;5;28;01mas\u001b[39;00m data:\n\u001b[1;32m     78\u001b[0m         \u001b[38;5;28;01mfor\u001b[39;00m ID, name \u001b[38;5;129;01min\u001b[39;00m \u001b[38;5;28menumerate\u001b[39m(data):\n\u001b[1;32m     79\u001b[0m             names[ID] \u001b[38;5;241m=\u001b[39m name\u001b[38;5;241m.\u001b[39mstrip(\u001b[38;5;124m'\u001b[39m\u001b[38;5;130;01m\\n\u001b[39;00m\u001b[38;5;124m'\u001b[39m)\n",
      "\u001b[0;31mFileNotFoundError\u001b[0m: [Errno 2] No such file or directory: './data/classes/coco.names'"
     ]
    }
   ],
   "source": [
    "from core.dataset import Dataset\n",
    "trainset = Dataset(None, is_training=True)\n",
    "print(len(trainset))"
   ]
  }
 ],
 "metadata": {
  "kernelspec": {
   "display_name": "ad_hynix",
   "language": "python",
   "name": "ad_hynix"
  },
  "language_info": {
   "codemirror_mode": {
    "name": "ipython",
    "version": 3
   },
   "file_extension": ".py",
   "mimetype": "text/x-python",
   "name": "python",
   "nbconvert_exporter": "python",
   "pygments_lexer": "ipython3",
   "version": "3.8.0"
  }
 },
 "nbformat": 4,
 "nbformat_minor": 4
}
