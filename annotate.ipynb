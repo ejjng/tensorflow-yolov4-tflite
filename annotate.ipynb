{
 "cells": [
  {
   "cell_type": "code",
   "execution_count": 2,
   "metadata": {},
   "outputs": [],
   "source": [
    "import os\n",
    "import csv\n",
    "\n",
    "data_types = ['train', 'val']\n",
    "folders = ['size50to100', 'size50to150', 'size100to150']\n",
    "annotpath = './data/dataset/'"
   ]
  },
  {
   "cell_type": "code",
   "execution_count": 5,
   "metadata": {},
   "outputs": [],
   "source": [
    "def get_lines(midpath):\n",
    "    lines = []\n",
    "    \n",
    "    labelpath = midpath + '/label/'\n",
    "    label_list = [f for f in os.listdir(labelpath) if '_ids' not in f]\n",
    "    label_list.sort()        \n",
    "    \n",
    "    for labelname in label_list:\n",
    "        no_ext = labelname.split('.')[0]\n",
    "        imgpath = midpath + '/img/' + no_ext + '.png'\n",
    "        line = imgpath + ' '\n",
    "        with open(labelpath + labelname, 'r') as f:\n",
    "            poses = f.readlines()\n",
    "            for i in range(len(poses)):\n",
    "                pos = poses[i]\n",
    "                p = pos.rstrip().split(' ')\n",
    "                line += p[0] + ','\n",
    "                line += p[1] + ','\n",
    "                line += str(int(p[0]) + int(p[2])) + ','\n",
    "                line += str(int(p[1]) + int(p[3])) + ','\n",
    "                line += '0'\n",
    "                if i != len(poses)-1:\n",
    "                    line += ' '\n",
    "        lines.append(line)\n",
    "    return lines"
   ]
  },
  {
   "cell_type": "code",
   "execution_count": 7,
   "metadata": {
    "scrolled": false
   },
   "outputs": [],
   "source": [
    "for data_type in data_types:\n",
    "    annots = []\n",
    "    for folder in folders:\n",
    "        midpath = './coco_mixed/' + folder + '/' + data_type\n",
    "        lines = get_lines(midpath)\n",
    "        annots += lines\n",
    "    \n",
    "    with open(annotpath + 'coco_mixed_' + data_type + '.txt', 'w') as f:\n",
    "        for annot in annots:\n",
    "            f.write(f\"{annot}\\n\")"
   ]
  },
  {
   "cell_type": "code",
   "execution_count": null,
   "metadata": {},
   "outputs": [],
   "source": []
  }
 ],
 "metadata": {
  "kernelspec": {
   "display_name": "ad_hynix",
   "language": "python",
   "name": "ad_hynix"
  },
  "language_info": {
   "codemirror_mode": {
    "name": "ipython",
    "version": 3
   },
   "file_extension": ".py",
   "mimetype": "text/x-python",
   "name": "python",
   "nbconvert_exporter": "python",
   "pygments_lexer": "ipython3",
   "version": "3.8.0"
  }
 },
 "nbformat": 4,
 "nbformat_minor": 4
}
